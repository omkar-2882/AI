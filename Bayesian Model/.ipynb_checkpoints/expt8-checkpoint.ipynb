{
 "cells": [
  {
   "cell_type": "code",
   "execution_count": 2,
   "id": "bbf55078",
   "metadata": {},
   "outputs": [
    {
     "name": "stdout",
     "output_type": "stream",
     "text": [
      "Collecting pgmpy\n",
      "  Downloading pgmpy-0.1.22-py3-none-any.whl (1.9 MB)\n",
      "     ---------------------------------------- 1.9/1.9 MB 5.3 MB/s eta 0:00:00\n",
      "Collecting networkx (from pgmpy)\n",
      "  Downloading networkx-3.1-py3-none-any.whl (2.1 MB)\n",
      "     ---------------------------------------- 2.1/2.1 MB 5.1 MB/s eta 0:00:00\n",
      "Requirement already satisfied: numpy in c:\\users\\omkar\\appdata\\local\\programs\\python\\python310\\lib\\site-packages (from pgmpy) (1.22.1)\n",
      "Requirement already satisfied: scipy in c:\\users\\omkar\\appdata\\local\\programs\\python\\python310\\lib\\site-packages (from pgmpy) (1.8.0)\n",
      "Requirement already satisfied: scikit-learn in c:\\users\\omkar\\appdata\\local\\programs\\python\\python310\\lib\\site-packages (from pgmpy) (1.0.2)\n",
      "Requirement already satisfied: pandas in c:\\users\\omkar\\appdata\\local\\programs\\python\\python310\\lib\\site-packages (from pgmpy) (1.5.1)\n",
      "Requirement already satisfied: pyparsing in c:\\users\\omkar\\appdata\\local\\programs\\python\\python310\\lib\\site-packages (from pgmpy) (3.0.7)\n",
      "Collecting torch (from pgmpy)\n",
      "  Downloading torch-2.0.0-cp310-cp310-win_amd64.whl (172.3 MB)\n",
      "     -------------------------------------- 172.3/172.3 MB 3.7 MB/s eta 0:00:00\n",
      "Collecting statsmodels (from pgmpy)\n",
      "  Downloading statsmodels-0.13.5-cp310-cp310-win_amd64.whl (9.1 MB)\n",
      "     ---------------------------------------- 9.1/9.1 MB 4.5 MB/s eta 0:00:00\n",
      "Requirement already satisfied: tqdm in c:\\users\\omkar\\appdata\\local\\programs\\python\\python310\\lib\\site-packages (from pgmpy) (4.64.0)\n",
      "Requirement already satisfied: joblib in c:\\users\\omkar\\appdata\\local\\programs\\python\\python310\\lib\\site-packages (from pgmpy) (1.1.0)\n",
      "Requirement already satisfied: opt-einsum in c:\\users\\omkar\\appdata\\local\\programs\\python\\python310\\lib\\site-packages (from pgmpy) (3.3.0)\n",
      "Requirement already satisfied: python-dateutil>=2.8.1 in c:\\users\\omkar\\appdata\\roaming\\python\\python310\\site-packages (from pandas->pgmpy) (2.8.2)\n",
      "Requirement already satisfied: pytz>=2020.1 in c:\\users\\omkar\\appdata\\local\\programs\\python\\python310\\lib\\site-packages (from pandas->pgmpy) (2022.5)\n",
      "Requirement already satisfied: threadpoolctl>=2.0.0 in c:\\users\\omkar\\appdata\\local\\programs\\python\\python310\\lib\\site-packages (from scikit-learn->pgmpy) (3.1.0)\n",
      "Collecting patsy>=0.5.2 (from statsmodels->pgmpy)\n",
      "  Downloading patsy-0.5.3-py2.py3-none-any.whl (233 kB)\n",
      "     -------------------------------------- 233.8/233.8 kB 4.8 MB/s eta 0:00:00\n",
      "Requirement already satisfied: packaging>=21.3 in c:\\users\\omkar\\appdata\\local\\programs\\python\\python310\\lib\\site-packages (from statsmodels->pgmpy) (21.3)\n",
      "Collecting numpy (from pgmpy)\n",
      "  Downloading numpy-1.24.3-cp310-cp310-win_amd64.whl (14.8 MB)\n",
      "     ---------------------------------------- 14.8/14.8 MB 4.3 MB/s eta 0:00:00\n",
      "Requirement already satisfied: filelock in c:\\users\\omkar\\appdata\\local\\programs\\python\\python310\\lib\\site-packages (from torch->pgmpy) (3.7.1)\n",
      "Requirement already satisfied: typing-extensions in c:\\users\\omkar\\appdata\\local\\programs\\python\\python310\\lib\\site-packages (from torch->pgmpy) (4.1.1)\n",
      "Collecting sympy (from torch->pgmpy)\n",
      "  Downloading sympy-1.11.1-py3-none-any.whl (6.5 MB)\n",
      "     ---------------------------------------- 6.5/6.5 MB 4.5 MB/s eta 0:00:00\n",
      "Requirement already satisfied: jinja2 in c:\\users\\omkar\\appdata\\local\\programs\\python\\python310\\lib\\site-packages (from torch->pgmpy) (3.1.2)\n",
      "Requirement already satisfied: colorama in c:\\users\\omkar\\appdata\\roaming\\python\\python310\\site-packages (from tqdm->pgmpy) (0.4.4)\n",
      "Requirement already satisfied: six in c:\\users\\omkar\\appdata\\local\\programs\\python\\python310\\lib\\site-packages (from patsy>=0.5.2->statsmodels->pgmpy) (1.16.0)\n",
      "Requirement already satisfied: MarkupSafe>=2.0 in c:\\users\\omkar\\appdata\\local\\programs\\python\\python310\\lib\\site-packages (from jinja2->torch->pgmpy) (2.1.1)\n",
      "Collecting mpmath>=0.19 (from sympy->torch->pgmpy)\n",
      "  Downloading mpmath-1.3.0-py3-none-any.whl (536 kB)\n",
      "     -------------------------------------- 536.2/536.2 kB 8.5 MB/s eta 0:00:00\n",
      "Installing collected packages: mpmath, sympy, numpy, networkx, torch, patsy, statsmodels, pgmpy\n",
      "  Attempting uninstall: numpy\n",
      "    Found existing installation: numpy 1.22.1\n",
      "    Uninstalling numpy-1.22.1:\n",
      "      Successfully uninstalled numpy-1.22.1\n",
      "Successfully installed mpmath-1.3.0 networkx-3.1 numpy-1.24.3 patsy-0.5.3 pgmpy-0.1.22 statsmodels-0.13.5 sympy-1.11.1 torch-2.0.0\n"
     ]
    }
   ],
   "source": [
    "!pip install pgmpy"
   ]
  },
  {
   "cell_type": "code",
   "execution_count": 3,
   "id": "b69a16c5",
   "metadata": {},
   "outputs": [],
   "source": [
    "from pgmpy.models import BayesianModel\n",
    "from pgmpy.inference import VariableElimination"
   ]
  },
  {
   "cell_type": "code",
   "execution_count": 8,
   "id": "8b89df8e",
   "metadata": {},
   "outputs": [],
   "source": [
    "alarm_model = BayesianModel([('Burglary','Alarm'),\n",
    "                             ('Earthquake', 'Alarm'),\n",
    "                             ('Alarm', 'JohnCalls'),\n",
    "                             ('Alarm', 'MaryCalls')])\n",
    "from pgmpy.factors.discrete import TabularCPD\n",
    "burglary_cpd = TabularCPD(variable='Burglary', variable_card=2, values=[[0.99],[0.01]])\n",
    "\n",
    "earthquake_cpd = TabularCPD(variable='Earthquake', variable_card=2, values=[[0.998], [0.02]])\n",
    "\n",
    "alarm_cpd = TabularCPD(variable='Alarm', variable_card=2, values=[[0.999, 0.71, 0.06, 0.05],\n",
    "                                                                  [0.001, 0.29, 0.94, 0.95]],\n",
    "                         evidence=['Burglary', 'Earthquake'], evidence_card=[2,2])\n",
    "\n",
    "john_cpd = TabularCPD(variable='JohnCalls', variable_card=2, values=[[0.95, 0.1], [0.05, 0.9]],\n",
    "                         evidence=['Alarm'], evidence_card=[2])\n",
    "\n",
    "mary_cpd = TabularCPD(variable='MaryCalls', variable_card=2, values=[[0.1, 0.7], [0.9, 0.3]],\n",
    "                         evidence=['Alarm'], evidence_card=[2])\n",
    "\n",
    "alarm_model.add_cpds(burglary_cpd,earthquake_cpd,alarm_cpd,john_cpd,mary_cpd)\n"
   ]
  },
  {
   "cell_type": "code",
   "execution_count": 9,
   "id": "911d9e09",
   "metadata": {},
   "outputs": [
    {
     "ename": "ValueError",
     "evalue": "Sum or integral of conditional probabilities for node Earthquake is not equal to 1.",
     "output_type": "error",
     "traceback": [
      "\u001b[1;31m-----------------------------------------------\u001b[0m",
      "\u001b[1;31mValueError\u001b[0m    Traceback (most recent call last)",
      "Input \u001b[1;32mIn [9]\u001b[0m, in \u001b[0;36m<module>\u001b[1;34m\u001b[0m\n\u001b[1;32m----> 1\u001b[0m \u001b[43malarm_model\u001b[49m\u001b[38;5;241;43m.\u001b[39;49m\u001b[43mcheck_model\u001b[49m\u001b[43m(\u001b[49m\u001b[43m)\u001b[49m\n",
      "File \u001b[1;32m~\\AppData\\Local\\Programs\\Python\\Python310\\lib\\site-packages\\pgmpy\\models\\BayesianNetwork.py:423\u001b[0m, in \u001b[0;36mBayesianNetwork.check_model\u001b[1;34m(self)\u001b[0m\n\u001b[0;32m    421\u001b[0m \u001b[38;5;66;03m# Check if the values of the CPD sum to 1.\u001b[39;00m\n\u001b[0;32m    422\u001b[0m \u001b[38;5;28;01mif\u001b[39;00m \u001b[38;5;129;01mnot\u001b[39;00m cpd\u001b[38;5;241m.\u001b[39mis_valid_cpd():\n\u001b[1;32m--> 423\u001b[0m     \u001b[38;5;28;01mraise\u001b[39;00m \u001b[38;5;167;01mValueError\u001b[39;00m(\n\u001b[0;32m    424\u001b[0m         \u001b[38;5;124mf\u001b[39m\u001b[38;5;124m\"\u001b[39m\u001b[38;5;124mSum or integral of conditional probabilities for node \u001b[39m\u001b[38;5;132;01m{\u001b[39;00mnode\u001b[38;5;132;01m}\u001b[39;00m\u001b[38;5;124m is not equal to 1.\u001b[39m\u001b[38;5;124m\"\u001b[39m\n\u001b[0;32m    425\u001b[0m     )\n\u001b[0;32m    427\u001b[0m \u001b[38;5;28;01mif\u001b[39;00m \u001b[38;5;28mlen\u001b[39m(\u001b[38;5;28mset\u001b[39m(cpd\u001b[38;5;241m.\u001b[39mvariables) \u001b[38;5;241m-\u001b[39m \u001b[38;5;28mset\u001b[39m(cpd\u001b[38;5;241m.\u001b[39mstate_names\u001b[38;5;241m.\u001b[39mkeys())) \u001b[38;5;241m>\u001b[39m \u001b[38;5;241m0\u001b[39m:\n\u001b[0;32m    428\u001b[0m     \u001b[38;5;28;01mraise\u001b[39;00m \u001b[38;5;167;01mValueError\u001b[39;00m(\n\u001b[0;32m    429\u001b[0m         \u001b[38;5;124mf\u001b[39m\u001b[38;5;124m\"\u001b[39m\u001b[38;5;124mCPD for \u001b[39m\u001b[38;5;132;01m{\u001b[39;00mnode\u001b[38;5;132;01m}\u001b[39;00m\u001b[38;5;124m doesn\u001b[39m\u001b[38;5;124m'\u001b[39m\u001b[38;5;124mt have state names defined for all the variables.\u001b[39m\u001b[38;5;124m\"\u001b[39m\n\u001b[0;32m    430\u001b[0m     )\n",
      "\u001b[1;31mValueError\u001b[0m: Sum or integral of conditional probabilities for node Earthquake is not equal to 1."
     ]
    }
   ],
   "source": [
    "alarm_model.check_model()"
   ]
  },
  {
   "cell_type": "code",
   "execution_count": 17,
   "id": "66843bc4",
   "metadata": {},
   "outputs": [
    {
     "data": {
      "text/plain": [
       "NodeView(('Burglary', 'Alarm', 'Earthquake', 'JohnCalls', 'MaryCalls'))"
      ]
     },
     "execution_count": 17,
     "metadata": {},
     "output_type": "execute_result"
    }
   ],
   "source": [
    "alarm_model.nodes()"
   ]
  },
  {
   "cell_type": "code",
   "execution_count": 18,
   "id": "28cc97a5",
   "metadata": {},
   "outputs": [
    {
     "data": {
      "text/plain": [
       "OutEdgeView([('Burglary', 'Alarm'), ('Alarm', 'JohnCalls'), ('Alarm', 'MaryCalls'), ('Earthquake', 'Alarm')])"
      ]
     },
     "execution_count": 18,
     "metadata": {},
     "output_type": "execute_result"
    }
   ],
   "source": [
    "alarm_model.edges()"
   ]
  },
  {
   "cell_type": "code",
   "execution_count": 26,
   "id": "7f20e469",
   "metadata": {},
   "outputs": [
    {
     "data": {
      "text/plain": [
       "(Burglary ⟂ Earthquake)"
      ]
     },
     "execution_count": 26,
     "metadata": {},
     "output_type": "execute_result"
    }
   ],
   "source": [
    "alarm_model.local_independencies('Burglary')"
   ]
  },
  {
   "cell_type": "code",
   "execution_count": null,
   "id": "79d66ae4",
   "metadata": {},
   "outputs": [],
   "source": []
  }
 ],
 "metadata": {
  "kernelspec": {
   "display_name": "Python 3 (ipykernel)",
   "language": "python",
   "name": "python3"
  },
  "language_info": {
   "codemirror_mode": {
    "name": "ipython",
    "version": 3
   },
   "file_extension": ".py",
   "mimetype": "text/x-python",
   "name": "python",
   "nbconvert_exporter": "python",
   "pygments_lexer": "ipython3",
   "version": "3.10.5"
  }
 },
 "nbformat": 4,
 "nbformat_minor": 5
}
